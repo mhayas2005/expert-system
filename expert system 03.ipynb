{
 "cells": [
  {
   "cell_type": "code",
   "execution_count": 2,
   "id": "aedf10da",
   "metadata": {},
   "outputs": [
    {
     "name": "stdout",
     "output_type": "stream",
     "text": [
      "What is your first name? hayas\n",
      "What is your last name? md\n",
      "What exam are you applying for? liciense\n",
      "What is your email address? hayas***@gmail.com\n",
      "Applicant Information:\n",
      "First Name: hayas\n",
      "Last Name: md\n",
      "Exam Name: liciense\n",
      "Email: hayas***@gmail.com\n",
      "Eligibility: You are eligible to apply for the exam.\n"
     ]
    }
   ],
   "source": [
    "# Collect information from the applicant\n",
    "first_name = input(\"What is your first name? \")\n",
    "last_name = input(\"What is your last name? \")\n",
    "exam_name = input(\"What exam are you applying for? \")\n",
    "email = input(\"What is your email address? \")\n",
    "if exam_name == \"Driver's License\":\n",
    "    eligibility = \"You must be 16 years old or older to apply for a Driver's License.\"\n",
    "elif exam_name == \"High School Diploma\":\n",
    "    eligibility = \"You must have completed 8th grade to apply for a High School Diploma.\"\n",
    "else:\n",
    "    eligibility = \"You are eligible to apply for the exam.\"\n",
    "print(\"Applicant Information:\")\n",
    "print(\"First Name:\", first_name)\n",
    "print(\"Last Name:\", last_name)\n",
    "print(\"Exam Name:\", exam_name)\n",
    "print(\"Email:\", email)\n",
    "print(\"Eligibility:\", eligibility)\n"
   ]
  },
  {
   "cell_type": "code",
   "execution_count": null,
   "id": "73ff9676",
   "metadata": {},
   "outputs": [],
   "source": []
  }
 ],
 "metadata": {
  "kernelspec": {
   "display_name": "Python 3 (ipykernel)",
   "language": "python",
   "name": "python3"
  },
  "language_info": {
   "codemirror_mode": {
    "name": "ipython",
    "version": 3
   },
   "file_extension": ".py",
   "mimetype": "text/x-python",
   "name": "python",
   "nbconvert_exporter": "python",
   "pygments_lexer": "ipython3",
   "version": "3.9.13"
  }
 },
 "nbformat": 4,
 "nbformat_minor": 5
}
